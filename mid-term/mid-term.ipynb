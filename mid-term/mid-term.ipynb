{
 "cells": [
  {
   "cell_type": "code",
   "execution_count": 166,
   "id": "2014ad6d",
   "metadata": {},
   "outputs": [],
   "source": [
    "import pandas as pd"
   ]
  },
  {
   "cell_type": "code",
   "execution_count": 194,
   "id": "21c95c47",
   "metadata": {},
   "outputs": [],
   "source": [
    "xl_file = pd.ExcelFile('./UN_MigrantStockTotal_2015.xlsx')\n",
    "#--------------------------------------------------------------------------------\n",
    "# Extracting Table: Contents\n",
    "\n",
    "Content = xl_file.parse('CONTENTS')\n",
    "Content = Content.tail(8)\n",
    "Content.rename(columns = {'Unnamed: 0':'TABLE',\n",
    "                          'Unnamed: 1':'TITLE'\n",
    "                         }, inplace = True)\n",
    "Content.to_csv('content.csv')\n",
    "\n",
    "#--------------------------------------------------------------------------------\n",
    "# Extracting Table: ANNEX\n",
    "\n",
    "ANNEX = xl_file.parse('ANNEX')\n",
    "ANNEX = ANNEX.tail(232)\n",
    "#ANNEX.head(300)\n",
    "ANNEX.rename(columns = {'Unnamed: 0':'PK_Country_Code',\n",
    "                        'Unnamed: 1':'Country_or_area',\n",
    "                        'Unnamed: 2':'C_Sort_Order',\n",
    "                        'Unnamed: 3':'Major_area',\n",
    "                        'Unnamed: 4':'M_Code',\n",
    "                        'Unnamed: 5':'M_Sort_Order',\n",
    "                        'Unnamed: 6':'Region',\n",
    "                        'Unnamed: 7':'R_Code',\n",
    "                        'Unnamed: 8':'R_Sort_Order',\n",
    "                        'Unnamed: 9':'Developed_Region',\n",
    "                        'Unnamed: 10':'Least_Dev_Country',\n",
    "                        'Unnamed: 11':'Sub_Saharan_Africa'\n",
    "                         }, inplace = True)\n",
    "ANNEX.to_csv('annex.csv')\n",
    "\n",
    "\n",
    "#--------------------------------------------------------------------------------\n",
    "# Extracting Table: Notes\n",
    "\n",
    "\n",
    "xl_file = pd.ExcelFile('./UN_MigrantStockTotal_2015.xlsx')\n",
    "Notes = xl_file.parse('NOTES')\n",
    "Notes = Notes.tail(27)\n",
    "\n",
    "\n",
    "Notes.rename(columns = {'Unnamed: 0':'ITEMS',\n",
    "                        'Unnamed: 1':'NOTES',\n",
    "                         }, inplace = True)\n",
    "\n",
    "Notes.to_csv('notes.csv')\n"
   ]
  },
  {
   "cell_type": "code",
   "execution_count": null,
   "id": "7c926fdb",
   "metadata": {},
   "outputs": [],
   "source": []
  }
 ],
 "metadata": {
  "kernelspec": {
   "display_name": "Python 3 (ipykernel)",
   "language": "python",
   "name": "python3"
  },
  "language_info": {
   "codemirror_mode": {
    "name": "ipython",
    "version": 3
   },
   "file_extension": ".py",
   "mimetype": "text/x-python",
   "name": "python",
   "nbconvert_exporter": "python",
   "pygments_lexer": "ipython3",
   "version": "3.10.0"
  }
 },
 "nbformat": 4,
 "nbformat_minor": 5
}
